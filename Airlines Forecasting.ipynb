{
 "cells": [
  {
   "cell_type": "code",
   "execution_count": 3,
   "id": "86b6d487",
   "metadata": {},
   "outputs": [],
   "source": [
    "import numpy as np\n",
    "import pandas as pd\n",
    "import matplotlib.pyplot as plt\n",
    "import seaborn as sns\n",
    "from statsmodels.tsa.seasonal import seasonal_decompose\n",
    "from statsmodels.tsa.holtwinters import SimpleExpSmoothing \n",
    "from statsmodels.tsa.holtwinters import Holt \n",
    "from statsmodels.tsa.holtwinters import ExponentialSmoothing \n",
    "from statsmodels.tsa.arima_model import ARIMA"
   ]
  },
  {
   "cell_type": "code",
   "execution_count": 4,
   "id": "5de88837",
   "metadata": {},
   "outputs": [],
   "source": [
    "airlines = pd.read_excel(\"C:/Users/SHIVAM/OneDrive/Desktop/Data science Assignment/Forecasting/Airlines+Data.xlsx\")"
   ]
  },
  {
   "cell_type": "code",
   "execution_count": 5,
   "id": "5aacf3f7",
   "metadata": {},
   "outputs": [
    {
     "data": {
      "text/html": [
       "<div>\n",
       "<style scoped>\n",
       "    .dataframe tbody tr th:only-of-type {\n",
       "        vertical-align: middle;\n",
       "    }\n",
       "\n",
       "    .dataframe tbody tr th {\n",
       "        vertical-align: top;\n",
       "    }\n",
       "\n",
       "    .dataframe thead th {\n",
       "        text-align: right;\n",
       "    }\n",
       "</style>\n",
       "<table border=\"1\" class=\"dataframe\">\n",
       "  <thead>\n",
       "    <tr style=\"text-align: right;\">\n",
       "      <th></th>\n",
       "      <th>Month</th>\n",
       "      <th>Passengers</th>\n",
       "    </tr>\n",
       "  </thead>\n",
       "  <tbody>\n",
       "    <tr>\n",
       "      <th>0</th>\n",
       "      <td>1995-01-01</td>\n",
       "      <td>112</td>\n",
       "    </tr>\n",
       "    <tr>\n",
       "      <th>1</th>\n",
       "      <td>1995-02-01</td>\n",
       "      <td>118</td>\n",
       "    </tr>\n",
       "    <tr>\n",
       "      <th>2</th>\n",
       "      <td>1995-03-01</td>\n",
       "      <td>132</td>\n",
       "    </tr>\n",
       "    <tr>\n",
       "      <th>3</th>\n",
       "      <td>1995-04-01</td>\n",
       "      <td>129</td>\n",
       "    </tr>\n",
       "    <tr>\n",
       "      <th>4</th>\n",
       "      <td>1995-05-01</td>\n",
       "      <td>121</td>\n",
       "    </tr>\n",
       "    <tr>\n",
       "      <th>...</th>\n",
       "      <td>...</td>\n",
       "      <td>...</td>\n",
       "    </tr>\n",
       "    <tr>\n",
       "      <th>91</th>\n",
       "      <td>2002-08-01</td>\n",
       "      <td>405</td>\n",
       "    </tr>\n",
       "    <tr>\n",
       "      <th>92</th>\n",
       "      <td>2002-09-01</td>\n",
       "      <td>355</td>\n",
       "    </tr>\n",
       "    <tr>\n",
       "      <th>93</th>\n",
       "      <td>2002-10-01</td>\n",
       "      <td>306</td>\n",
       "    </tr>\n",
       "    <tr>\n",
       "      <th>94</th>\n",
       "      <td>2002-11-01</td>\n",
       "      <td>271</td>\n",
       "    </tr>\n",
       "    <tr>\n",
       "      <th>95</th>\n",
       "      <td>2002-12-01</td>\n",
       "      <td>306</td>\n",
       "    </tr>\n",
       "  </tbody>\n",
       "</table>\n",
       "<p>96 rows × 2 columns</p>\n",
       "</div>"
      ],
      "text/plain": [
       "        Month  Passengers\n",
       "0  1995-01-01         112\n",
       "1  1995-02-01         118\n",
       "2  1995-03-01         132\n",
       "3  1995-04-01         129\n",
       "4  1995-05-01         121\n",
       "..        ...         ...\n",
       "91 2002-08-01         405\n",
       "92 2002-09-01         355\n",
       "93 2002-10-01         306\n",
       "94 2002-11-01         271\n",
       "95 2002-12-01         306\n",
       "\n",
       "[96 rows x 2 columns]"
      ]
     },
     "execution_count": 5,
     "metadata": {},
     "output_type": "execute_result"
    }
   ],
   "source": [
    "airlines"
   ]
  },
  {
   "cell_type": "code",
   "execution_count": 6,
   "id": "90e8728d",
   "metadata": {},
   "outputs": [
    {
     "name": "stdout",
     "output_type": "stream",
     "text": [
      "<class 'pandas.core.frame.DataFrame'>\n",
      "RangeIndex: 96 entries, 0 to 95\n",
      "Data columns (total 2 columns):\n",
      " #   Column      Non-Null Count  Dtype         \n",
      "---  ------      --------------  -----         \n",
      " 0   Month       96 non-null     datetime64[ns]\n",
      " 1   Passengers  96 non-null     int64         \n",
      "dtypes: datetime64[ns](1), int64(1)\n",
      "memory usage: 1.6 KB\n"
     ]
    }
   ],
   "source": [
    "airlines.info()"
   ]
  },
  {
   "cell_type": "code",
   "execution_count": 7,
   "id": "d8fb42e6",
   "metadata": {},
   "outputs": [],
   "source": [
    "airlines['Month']=pd.to_datetime(airlines['Month'],infer_datetime_format=True)"
   ]
  },
  {
   "cell_type": "code",
   "execution_count": 8,
   "id": "323964ef",
   "metadata": {},
   "outputs": [
    {
     "data": {
      "image/png": "[encoded data removed]",
      "text/plain": [
       "<Figure size 432x288 with 2 Axes>"
      ]
     },
     "metadata": {
      "needs_background": "light"
     },
     "output_type": "display_data"
    }
   ],
   "source": [
    "plt.subplot(211)\n",
    "plt.plot(airlines['Passengers'])\n",
    "plt.subplot(212)\n",
    "plt.hist(airlines['Passengers'])\n",
    "plt.show()"
   ]
  },
  {
   "cell_type": "code",
   "execution_count": 9,
   "id": "38bda4ee",
   "metadata": {},
   "outputs": [
    {
     "data": {
      "image/png": "[encoded data removed]",
      "text/plain": [
       "<Figure size 432x288 with 2 Axes>"
      ]
     },
     "metadata": {
      "needs_background": "light"
     },
     "output_type": "display_data"
    }
   ],
   "source": [
    "df = np.sqrt(airlines['Passengers'])\n",
    "plt.subplot(211)\n",
    "plt.plot(df)\n",
    "# histogram\n",
    "plt.subplot(212)\n",
    "plt.hist(df)\n",
    "plt.show()"
   ]
  },
  {
   "cell_type": "code",
   "execution_count": 10,
   "id": "d2e9266f",
   "metadata": {},
   "outputs": [
    {
     "data": {
      "image/png": "[encoded data removed]",
      "text/plain": [
       "<Figure size 432x288 with 2 Axes>"
      ]
     },
     "metadata": {
      "needs_background": "light"
     },
     "output_type": "display_data"
    }
   ],
   "source": [
    "df1 = np.log(airlines['Passengers'])\n",
    "plt.subplot(211)\n",
    "plt.plot(df1)\n",
    "# histogram\n",
    "plt.subplot(212)\n",
    "plt.hist(df1)\n",
    "plt.show()"
   ]
  },
  {
   "cell_type": "markdown",
   "id": "101571c6",
   "metadata": {},
   "source": [
    "## Model"
   ]
  },
  {
   "cell_type": "code",
   "execution_count": 11,
   "id": "f231b94e",
   "metadata": {},
   "outputs": [],
   "source": [
    "Train = airlines.head(84)\n",
    "Test = airlines.tail(12)"
   ]
  },
  {
   "cell_type": "code",
   "execution_count": 12,
   "id": "af42ba84",
   "metadata": {},
   "outputs": [
    {
     "data": {
      "text/html": [
       "<div>\n",
       "<style scoped>\n",
       "    .dataframe tbody tr th:only-of-type {\n",
       "        vertical-align: middle;\n",
       "    }\n",
       "\n",
       "    .dataframe tbody tr th {\n",
       "        vertical-align: top;\n",
       "    }\n",
       "\n",
       "    .dataframe thead th {\n",
       "        text-align: right;\n",
       "    }\n",
       "</style>\n",
       "<table border=\"1\" class=\"dataframe\">\n",
       "  <thead>\n",
       "    <tr style=\"text-align: right;\">\n",
       "      <th></th>\n",
       "      <th>Month</th>\n",
       "      <th>Passengers</th>\n",
       "    </tr>\n",
       "  </thead>\n",
       "  <tbody>\n",
       "    <tr>\n",
       "      <th>0</th>\n",
       "      <td>1995-01-01</td>\n",
       "      <td>112</td>\n",
       "    </tr>\n",
       "    <tr>\n",
       "      <th>1</th>\n",
       "      <td>1995-02-01</td>\n",
       "      <td>118</td>\n",
       "    </tr>\n",
       "    <tr>\n",
       "      <th>2</th>\n",
       "      <td>1995-03-01</td>\n",
       "      <td>132</td>\n",
       "    </tr>\n",
       "    <tr>\n",
       "      <th>3</th>\n",
       "      <td>1995-04-01</td>\n",
       "      <td>129</td>\n",
       "    </tr>\n",
       "    <tr>\n",
       "      <th>4</th>\n",
       "      <td>1995-05-01</td>\n",
       "      <td>121</td>\n",
       "    </tr>\n",
       "    <tr>\n",
       "      <th>...</th>\n",
       "      <td>...</td>\n",
       "      <td>...</td>\n",
       "    </tr>\n",
       "    <tr>\n",
       "      <th>79</th>\n",
       "      <td>2001-08-01</td>\n",
       "      <td>347</td>\n",
       "    </tr>\n",
       "    <tr>\n",
       "      <th>80</th>\n",
       "      <td>2001-09-01</td>\n",
       "      <td>312</td>\n",
       "    </tr>\n",
       "    <tr>\n",
       "      <th>81</th>\n",
       "      <td>2001-10-01</td>\n",
       "      <td>274</td>\n",
       "    </tr>\n",
       "    <tr>\n",
       "      <th>82</th>\n",
       "      <td>2001-11-01</td>\n",
       "      <td>237</td>\n",
       "    </tr>\n",
       "    <tr>\n",
       "      <th>83</th>\n",
       "      <td>2001-12-01</td>\n",
       "      <td>278</td>\n",
       "    </tr>\n",
       "  </tbody>\n",
       "</table>\n",
       "<p>84 rows × 2 columns</p>\n",
       "</div>"
      ],
      "text/plain": [
       "        Month  Passengers\n",
       "0  1995-01-01         112\n",
       "1  1995-02-01         118\n",
       "2  1995-03-01         132\n",
       "3  1995-04-01         129\n",
       "4  1995-05-01         121\n",
       "..        ...         ...\n",
       "79 2001-08-01         347\n",
       "80 2001-09-01         312\n",
       "81 2001-10-01         274\n",
       "82 2001-11-01         237\n",
       "83 2001-12-01         278\n",
       "\n",
       "[84 rows x 2 columns]"
      ]
     },
     "execution_count": 12,
     "metadata": {},
     "output_type": "execute_result"
    }
   ],
   "source": [
    "Train"
   ]
  },
  {
   "cell_type": "code",
   "execution_count": 13,
   "id": "a50ba419",
   "metadata": {},
   "outputs": [
    {
     "data": {
      "text/plain": [
       "<matplotlib.legend.Legend at 0x1ddbeec4a90>"
      ]
     },
     "execution_count": 13,
     "metadata": {},
     "output_type": "execute_result"
    },
    {
     "data": {
      "image/png": "[encoded data removed]",
      "text/plain": [
       "<Figure size 864x288 with 1 Axes>"
      ]
     },
     "metadata": {
      "needs_background": "light"
     },
     "output_type": "display_data"
    }
   ],
   "source": [
    "plt.figure(figsize=(12,4))\n",
    "airlines.Passengers.plot(label=\"org\")\n",
    "for i in range(2,24,6):\n",
    "    airlines[\"Passengers\"].rolling(i).mean().plot(label=str(i))\n",
    "plt.legend(loc='best')"
   ]
  },
  {
   "cell_type": "markdown",
   "id": "556ad980",
   "metadata": {},
   "source": [
    "## ACF and PACF plot"
   ]
  },
  {
   "cell_type": "code",
   "execution_count": 14,
   "id": "76279319",
   "metadata": {},
   "outputs": [
    {
     "name": "stderr",
     "output_type": "stream",
     "text": [
      "C:\\Users\\SHIVAM\\anaconda3\\lib\\site-packages\\statsmodels\\graphics\\tsaplots.py:348: FutureWarning: The default method 'yw' can produce PACF values outside of the [-1,1] interval. After 0.13, the default will change tounadjusted Yule-Walker ('ywm'). You can use this method now by setting method='ywm'.\n",
      "  warnings.warn(\n"
     ]
    },
    {
     "data": {
      "image/png": "[encoded data removed]",
      "text/plain": [
       "<Figure size 432x288 with 1 Axes>"
      ]
     },
     "metadata": {
      "needs_background": "light"
     },
     "output_type": "display_data"
    },
    {
     "data": {
      "image/png": "[encoded data removed]",
      "text/plain": [
       "<Figure size 432x288 with 1 Axes>"
      ]
     },
     "metadata": {
      "needs_background": "light"
     },
     "output_type": "display_data"
    }
   ],
   "source": [
    "import statsmodels.graphics.tsaplots as tsa_plots\n",
    "tsa_plots.plot_acf(airlines['Passengers'],lags=12)\n",
    "tsa_plots.plot_pacf(airlines['Passengers'],lags=12)\n",
    "plt.show()"
   ]
  },
  {
   "cell_type": "code",
   "execution_count": 15,
   "id": "4f520856",
   "metadata": {},
   "outputs": [],
   "source": [
    "def MAPE(pred,org):\n",
    "    temp = np.abs((pred-org)/org)*100\n",
    "    return np.mean(temp)"
   ]
  },
  {
   "cell_type": "markdown",
   "id": "94d51b03",
   "metadata": {},
   "source": [
    "### Simple Exponential Method"
   ]
  },
  {
   "cell_type": "code",
   "execution_count": 16,
   "id": "e1ff317c",
   "metadata": {},
   "outputs": [
    {
     "data": {
      "text/plain": [
       "13.41127474051367"
      ]
     },
     "execution_count": 16,
     "metadata": {},
     "output_type": "execute_result"
    }
   ],
   "source": [
    "ses_model = SimpleExpSmoothing(Train[\"Passengers\"]).fit(smoothing_level=0.2)\n",
    "pred_ses = ses_model.predict(start = Test.index[0],end = Test.index[-1])\n",
    "MAPE(pred_ses,Test.Passengers) "
   ]
  },
  {
   "cell_type": "markdown",
   "id": "766d9e8c",
   "metadata": {},
   "source": [
    "### Holts Winter"
   ]
  },
  {
   "cell_type": "code",
   "execution_count": 17,
   "id": "6d303e67",
   "metadata": {},
   "outputs": [
    {
     "name": "stderr",
     "output_type": "stream",
     "text": [
      "C:\\Users\\SHIVAM\\AppData\\Local\\Temp\\ipykernel_16756\\2575406107.py:1: FutureWarning: the 'smoothing_slope'' keyword is deprecated, use 'smoothing_trend' instead.\n",
      "  hw_model = Holt(Train[\"Passengers\"]).fit(smoothing_level=0.8, smoothing_slope=0.2)\n"
     ]
    },
    {
     "data": {
      "text/plain": [
       "23.530719652100505"
      ]
     },
     "execution_count": 17,
     "metadata": {},
     "output_type": "execute_result"
    }
   ],
   "source": [
    "hw_model = Holt(Train[\"Passengers\"]).fit(smoothing_level=0.8, smoothing_slope=0.2)\n",
    "pred_hw = hw_model.predict(start = Test.index[0],end = Test.index[-1])\n",
    "MAPE(pred_hw,Test.Passengers) "
   ]
  },
  {
   "cell_type": "markdown",
   "id": "02bc62d2",
   "metadata": {},
   "source": [
    "### Holts winter exponential smoothing with additive seasonality and additive trend\n"
   ]
  },
  {
   "cell_type": "code",
   "execution_count": 18,
   "id": "88015816",
   "metadata": {},
   "outputs": [
    {
     "data": {
      "text/plain": [
       "5.730286880515042"
      ]
     },
     "execution_count": 18,
     "metadata": {},
     "output_type": "execute_result"
    }
   ],
   "source": [
    "hwe_model_add_add = ExponentialSmoothing(Train[\"Passengers\"],seasonal=\"add\",trend=\"add\",seasonal_periods=12).fit() #add the trend to the model\n",
    "pred_hwe_add_add = hwe_model_add_add.predict(start = Test.index[0],end = Test.index[-1])\n",
    "MAPE(pred_hwe_add_add,Test.Passengers)"
   ]
  },
  {
   "cell_type": "markdown",
   "id": "677337bd",
   "metadata": {},
   "source": [
    "### Holts winter exponential smoothing with multiplicative seasonality and additive trend"
   ]
  },
  {
   "cell_type": "code",
   "execution_count": 19,
   "id": "cee83548",
   "metadata": {},
   "outputs": [
    {
     "data": {
      "text/plain": [
       "2.821091342486879"
      ]
     },
     "execution_count": 19,
     "metadata": {},
     "output_type": "execute_result"
    }
   ],
   "source": [
    "hwe_model_mul_add = ExponentialSmoothing(Train[\"Passengers\"],seasonal=\"mul\",trend=\"add\",seasonal_periods=12).fit() \n",
    "pred_hwe_mul_add = hwe_model_mul_add.predict(start = Test.index[0],end = Test.index[-1])\n",
    "MAPE(pred_hwe_mul_add,Test.Passengers)"
   ]
  },
  {
   "cell_type": "markdown",
   "id": "cc601153",
   "metadata": {},
   "source": [
    "### ARIMA"
   ]
  },
  {
   "cell_type": "code",
   "execution_count": 23,
   "id": "7d2fa0c2",
   "metadata": {},
   "outputs": [
    {
     "data": {
      "text/html": [
       "<div>\n",
       "<style scoped>\n",
       "    .dataframe tbody tr th:only-of-type {\n",
       "        vertical-align: middle;\n",
       "    }\n",
       "\n",
       "    .dataframe tbody tr th {\n",
       "        vertical-align: top;\n",
       "    }\n",
       "\n",
       "    .dataframe thead th {\n",
       "        text-align: right;\n",
       "    }\n",
       "</style>\n",
       "<table border=\"1\" class=\"dataframe\">\n",
       "  <thead>\n",
       "    <tr style=\"text-align: right;\">\n",
       "      <th></th>\n",
       "      <th>Passengers</th>\n",
       "    </tr>\n",
       "    <tr>\n",
       "      <th>Month</th>\n",
       "      <th></th>\n",
       "    </tr>\n",
       "  </thead>\n",
       "  <tbody>\n",
       "    <tr>\n",
       "      <th>1995-01-01</th>\n",
       "      <td>112</td>\n",
       "    </tr>\n",
       "    <tr>\n",
       "      <th>1995-02-01</th>\n",
       "      <td>118</td>\n",
       "    </tr>\n",
       "    <tr>\n",
       "      <th>1995-03-01</th>\n",
       "      <td>132</td>\n",
       "    </tr>\n",
       "    <tr>\n",
       "      <th>1995-04-01</th>\n",
       "      <td>129</td>\n",
       "    </tr>\n",
       "    <tr>\n",
       "      <th>1995-05-01</th>\n",
       "      <td>121</td>\n",
       "    </tr>\n",
       "  </tbody>\n",
       "</table>\n",
       "</div>"
      ],
      "text/plain": [
       "            Passengers\n",
       "Month                 \n",
       "1995-01-01         112\n",
       "1995-02-01         118\n",
       "1995-03-01         132\n",
       "1995-04-01         129\n",
       "1995-05-01         121"
      ]
     },
     "execution_count": 23,
     "metadata": {},
     "output_type": "execute_result"
    }
   ],
   "source": [
    "data = pd.read_excel(\"C:/Users/SHIVAM/OneDrive/Desktop/Data science Assignment/Forecasting/Airlines+Data.xlsx\",header=0,index_col=0, parse_dates=True)\n",
    "data.head()"
   ]
  },
  {
   "cell_type": "code",
   "execution_count": 24,
   "id": "f0dcf339",
   "metadata": {},
   "outputs": [
    {
     "name": "stdout",
     "output_type": "stream",
     "text": [
      "Dataset_cc 89, Validation_cc 7\n"
     ]
    }
   ],
   "source": [
    "split_point = len(data) - 7\n",
    "dataset_cc, validation_cc = data[0:split_point], data[split_point:]\n",
    "print('Dataset_cc %d, Validation_cc %d' % (len(dataset_cc), len(validation_cc)))"
   ]
  },
  {
   "cell_type": "code",
   "execution_count": 25,
   "id": "d9d4668b",
   "metadata": {},
   "outputs": [],
   "source": [
    "dataset_cc.to_csv('dataset_cc.csv', header=False)\n",
    "validation_cc.to_csv('validation_cc.csv', header=False)"
   ]
  },
  {
   "cell_type": "code",
   "execution_count": 26,
   "id": "89a3bb5f",
   "metadata": {},
   "outputs": [
    {
     "name": "stderr",
     "output_type": "stream",
     "text": [
      "C:\\Users\\SHIVAM\\AppData\\Local\\Temp\\ipykernel_16756\\1049694658.py:8: FutureWarning: The squeeze argument has been deprecated and will be removed in a future version. Append .squeeze(\"columns\") to the call to squeeze.\n",
      "\n",
      "\n",
      "  train = read_csv('dataset_cc.csv', header=None, index_col=0, parse_dates=True, squeeze=True)\n"
     ]
    },
    {
     "data": {
      "text/plain": [
       "0\n",
       "1995-01-01    112\n",
       "1995-02-01    118\n",
       "1995-03-01    132\n",
       "1995-04-01    129\n",
       "1995-05-01    121\n",
       "             ... \n",
       "2002-01-01    284\n",
       "2002-02-01    277\n",
       "2002-03-01    317\n",
       "2002-04-01    313\n",
       "2002-05-01    318\n",
       "Name: 1, Length: 89, dtype: int64"
      ]
     },
     "execution_count": 26,
     "metadata": {},
     "output_type": "execute_result"
    }
   ],
   "source": [
    "from pandas import read_csv\n",
    "from sklearn.metrics import mean_squared_error\n",
    "from math import sqrt\n",
    "import warnings\n",
    "from statsmodels.tsa.arima.model import ARIMA\n",
    "\n",
    "\n",
    "train = read_csv('dataset_cc.csv', header=None, index_col=0, parse_dates=True, squeeze=True)\n",
    "\n",
    "train"
   ]
  },
  {
   "cell_type": "code",
   "execution_count": 27,
   "id": "3cc7db14",
   "metadata": {},
   "outputs": [],
   "source": [
    "X = train.values\n",
    "X = X.astype('float32')\n",
    "train_size = int(len(X) * 0.50)\n",
    "train, test = X[0:train_size], X[train_size:]"
   ]
  },
  {
   "cell_type": "code",
   "execution_count": 33,
   "id": "4699a9f8",
   "metadata": {},
   "outputs": [],
   "source": [
    "def evaluate_arima_model(X, arima_order):\n",
    "# prepare training dataset\n",
    "    X = X.astype('float32')\n",
    "    train_size = int(len(X) * 0.50)\n",
    "    train, test = X[0:train_size], X[train_size:]\n",
    "    history = [x for x in train]\n",
    "# make predictions\n",
    "    predictions = list()\n",
    "    for t in range(len(test)):\n",
    "        model = ARIMA(history, order=arima_order)\n",
    "# model_fit = model.fit(disp=0)\n",
    "        model_fit = model.fit()\n",
    "        yhat = model_fit.forecast()[0]\n",
    "        predictions.append(yhat)\n",
    "        history.append(test[t])\n",
    "# calculate out of sample error\n",
    "     mape = (MAPE(test, predictions))\n",
    "    return mape"
   ]
  },
  {
   "cell_type": "code",
   "execution_count": 41,
   "id": "5adaaf38",
   "metadata": {},
   "outputs": [],
   "source": [
    "def evaluate_models(dataset, p_values, d_values, q_values):\n",
    "    dataset = dataset.astype('float32')\n",
    "    best_score, best_cfg = float('inf'), None\n",
    "    for p in p_values:\n",
    "        for d in d_values:\n",
    "            for q in q_values:\n",
    "                order = (p,d,q)\n",
    "                try:\n",
    "                    mape = evaluate_arima_model(train, order)\n",
    "                    if mape < best_score:\n",
    "                        best_score, best_cfg = mape, order\n",
    "                    print('ARIMA%s MAPE=%.3f' % (order,mape))\n",
    "                except:\n",
    "                    continue\n",
    "    print('Best ARIMA%s MAPE=%.3f' % (best_cfg, best_score))"
   ]
  },
  {
   "cell_type": "code",
   "execution_count": 42,
   "id": "499cd2e8",
   "metadata": {},
   "outputs": [
    {
     "name": "stdout",
     "output_type": "stream",
     "text": [
      "ARIMA(0, 0, 0) MAPE=76.755\n",
      "ARIMA(0, 0, 1) MAPE=47.347\n",
      "ARIMA(0, 0, 2) MAPE=36.030\n",
      "ARIMA(0, 1, 0) MAPE=21.975\n",
      "ARIMA(0, 1, 1) MAPE=21.907\n",
      "ARIMA(0, 1, 2) MAPE=22.178\n",
      "ARIMA(0, 2, 0) MAPE=28.992\n",
      "ARIMA(0, 2, 1) MAPE=22.314\n",
      "ARIMA(0, 2, 2) MAPE=22.196\n",
      "ARIMA(1, 0, 0) MAPE=23.957\n",
      "ARIMA(1, 0, 1) MAPE=23.991\n",
      "ARIMA(1, 0, 2) MAPE=25.384\n",
      "ARIMA(1, 1, 0) MAPE=21.921\n",
      "ARIMA(1, 1, 1) MAPE=21.879\n",
      "ARIMA(1, 1, 2) MAPE=23.314\n",
      "ARIMA(1, 2, 0) MAPE=27.464\n",
      "ARIMA(1, 2, 1) MAPE=22.219\n",
      "ARIMA(1, 2, 2) MAPE=22.781\n",
      "ARIMA(2, 0, 0) MAPE=24.101\n",
      "ARIMA(2, 0, 1) MAPE=24.113\n",
      "ARIMA(2, 0, 2) MAPE=25.451\n",
      "ARIMA(2, 1, 0) MAPE=21.732\n",
      "ARIMA(2, 1, 1) MAPE=23.823\n",
      "ARIMA(2, 1, 2) MAPE=27.510\n",
      "ARIMA(2, 2, 0) MAPE=25.282\n",
      "ARIMA(2, 2, 1) MAPE=22.064\n",
      "ARIMA(2, 2, 2) MAPE=23.255\n",
      "Best ARIMA(2, 1, 0) MAPE=21.732\n"
     ]
    }
   ],
   "source": [
    "train = read_csv('dataset.csv', header=None, index_col=0, parse_dates=True, squeeze=True)\n",
    "# evaluate parameters\n",
    "p_values = range(0, 3)\n",
    "d_values = range(0, 3)\n",
    "q_values = range(0, 3)\n",
    "warnings.filterwarnings(\"ignore\")\n",
    "evaluate_models(train.values, p_values, d_values, q_values)"
   ]
  },
  {
   "cell_type": "code",
   "execution_count": 30,
   "id": "a6b231f3",
   "metadata": {},
   "outputs": [],
   "source": [
    "train = read_csv('dataset.csv', header=0, index_col=0, parse_dates=True)\n",
    "# prepare data\n",
    "X = train.values\n",
    "X = X.astype('float32')"
   ]
  },
  {
   "cell_type": "code",
   "execution_count": 31,
   "id": "53ebee44",
   "metadata": {},
   "outputs": [
    {
     "data": {
      "text/plain": [
       "array([386.01917536, 397.40958515, 395.92043024, 413.72669947,\n",
       "       458.47355898, 481.80988361, 334.94610783, 405.92738247,\n",
       "       354.12287403, 425.6694042 , 429.79271843, 437.70953429,\n",
       "       454.28870994, 460.89120915, 452.85150862, 470.4664224 ,\n",
       "       499.93583965, 488.59422639, 472.92218602, 459.18343065,\n",
       "       470.97174647, 480.46545485, 487.14021855, 464.31378928,\n",
       "       463.97746465, 473.89217671, 531.50929712, 662.40113645,\n",
       "       637.54555698, 585.17277186, 518.01098552, 533.56588069,\n",
       "       500.87579974, 505.25728223, 503.        , 515.54502461,\n",
       "       521.14021855, 489.95043955, 506.44388706, 501.92043024,\n",
       "       447.59280799, 436.38402648, 433.7665687 , 459.18088665,\n",
       "       459.62996452, 504.46959658, 483.29486832, 466.47292881,\n",
       "       495.34002617, 500.94789554, 514.46545485, 498.14100678,\n",
       "       524.47135236, 575.24805249, 578.16178634, 586.39653322,\n",
       "       629.46959658, 636.52117368, 606.4143073 , 608.90616772,\n",
       "       633.47531476, 613.7670089 , 614.29046571, 597.71129006,\n",
       "       575.42751009, 565.75767634, 549.398289  , 538.97253469,\n",
       "       540.09627573, 540.05186742, 539.93956347, 539.93882112,\n",
       "       539.94980922, 539.95038114, 539.94932871, 539.94922478,\n",
       "       539.94932335, 539.94933803, 539.94932902])"
      ]
     },
     "execution_count": 31,
     "metadata": {},
     "output_type": "execute_result"
    }
   ],
   "source": [
    "model = ARIMA(X, order=(2,1,0))\n",
    "model_fit = model.fit()\n",
    "forecast=model_fit.forecast(steps=10)[0]\n",
    "model_fit.predict(1, 79)"
   ]
  },
  {
   "cell_type": "code",
   "execution_count": 43,
   "id": "8fca0195",
   "metadata": {},
   "outputs": [
    {
     "data": {
      "text/plain": [
       "22.061244124297826"
      ]
     },
     "execution_count": 43,
     "metadata": {},
     "output_type": "execute_result"
    }
   ],
   "source": [
    "evaluate_arima_model(X,(2,1,0))"
   ]
  },
  {
   "cell_type": "markdown",
   "id": "cbd7a620",
   "metadata": {},
   "source": [
    "### Least MAPE value is given by Holts winter exponential smoothing with multiplicative seasonality and additive trend model."
   ]
  },
  {
   "cell_type": "code",
   "execution_count": null,
   "id": "430ba84b",
   "metadata": {},
   "outputs": [],
   "source": []
  }
 ],
 "metadata": {
  "kernelspec": {
   "display_name": "Python 3 (ipykernel)",
   "language": "python",
   "name": "python3"
  },
  "language_info": {
   "codemirror_mode": {
    "name": "ipython",
    "version": 3
   },
   "file_extension": ".py",
   "mimetype": "text/x-python",
   "name": "python",
   "nbconvert_exporter": "python",
   "pygments_lexer": "ipython3",
   "version": "3.9.12"
  }
 },
 "nbformat": 4,
 "nbformat_minor": 5
}
